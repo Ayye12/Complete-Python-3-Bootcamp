{
  "nbformat": 4,
  "nbformat_minor": 0,
  "metadata": {
    "colab": {
      "name": "Custom models.ipynb",
      "provenance": [],
      "collapsed_sections": [],
      "include_colab_link": true
    },
    "kernelspec": {
      "name": "python3",
      "display_name": "Python 3"
    }
  },
  "cells": [
    {
      "cell_type": "markdown",
      "metadata": {
        "id": "view-in-github",
        "colab_type": "text"
      },
      "source": [
        "<a href=\"https://colab.research.google.com/github/Ayye12/Complete-Python-3-Bootcamp/blob/master/Custom_models.ipynb\" target=\"_parent\"><img src=\"https://colab.research.google.com/assets/colab-badge.svg\" alt=\"Open In Colab\"/></a>"
      ]
    },
    {
      "cell_type": "code",
      "metadata": {
        "id": "5XlCRsg714Cm",
        "colab_type": "code",
        "outputId": "0db0a382-f89c-4d25-f8b0-efc7712d4307",
        "colab": {
          "base_uri": "https://localhost:8080/",
          "height": 71
        }
      },
      "source": [
        "!pip3 install torch"
      ],
      "execution_count": 1,
      "outputs": [
        {
          "output_type": "stream",
          "text": [
            "Requirement already satisfied: torch in /usr/local/lib/python3.6/dist-packages (1.1.0)\n",
            "Requirement already satisfied: numpy in /usr/local/lib/python3.6/dist-packages (from torch) (1.16.5)\n"
          ],
          "name": "stdout"
        }
      ]
    },
    {
      "cell_type": "code",
      "metadata": {
        "id": "1oCKPw08198n",
        "colab_type": "code",
        "colab": {}
      },
      "source": [
        "import torch\n",
        "import torch.nn as nn\n",
        "import matplotlib.pyplot as plt\n",
        "import numpy as np"
      ],
      "execution_count": 0,
      "outputs": []
    },
    {
      "cell_type": "code",
      "metadata": {
        "id": "mb4AcPeO9AYg",
        "colab_type": "code",
        "outputId": "a1fa7684-dd6f-43bc-a48b-7b6bf6932972",
        "colab": {
          "base_uri": "https://localhost:8080/",
          "height": 300
        }
      },
      "source": [
        "x = torch.randn(100, 1)*10#Returns a tensor filled with random numbers\n",
        "y = x + 3*torch.randn(100, 1)\n",
        "plt.plot(x.numpy(), y.numpy(), 'o')\n",
        "plt.ylabel('y')\n",
        "plt.xlabel('x')"
      ],
      "execution_count": 3,
      "outputs": [
        {
          "output_type": "execute_result",
          "data": {
            "text/plain": [
              "Text(0.5, 0, 'x')"
            ]
          },
          "metadata": {
            "tags": []
          },
          "execution_count": 3
        },
        {
          "output_type": "display_data",
          "data": {
            "image/png": "[encoded data removed]",
            "text/plain": [
              "<Figure size 432x288 with 1 Axes>"
            ]
          },
          "metadata": {
            "tags": []
          }
        }
      ]
    },
    {
      "cell_type": "code",
      "metadata": {
        "id": "7n-PF3_B2END",
        "colab_type": "code",
        "colab": {}
      },
      "source": [
        "class LR(nn.Module):\n",
        "  def __init__(self, input_size, output_size):\n",
        "    super().__init__()\n",
        "    self.linear = nn.Linear(input_size, output_size)\n",
        "  def forward(self, x):\n",
        "    pred = self.linear(x)\n",
        "    return pred"
      ],
      "execution_count": 0,
      "outputs": []
    },
    {
      "cell_type": "code",
      "metadata": {
        "id": "C2jwKYRA25Yl",
        "colab_type": "code",
        "outputId": "0cd67d80-848a-4023-c4eb-8a9b7d193b75",
        "colab": {
          "base_uri": "https://localhost:8080/",
          "height": 68
        }
      },
      "source": [
        "torch.manual_seed(1)\n",
        "model = LR(1, 1)\n",
        "print(model)"
      ],
      "execution_count": 5,
      "outputs": [
        {
          "output_type": "stream",
          "text": [
            "LR(\n",
            "  (linear): Linear(in_features=1, out_features=1, bias=True)\n",
            ")\n"
          ],
          "name": "stdout"
        }
      ]
    },
    {
      "cell_type": "code",
      "metadata": {
        "id": "XdmFWoM35fA9",
        "colab_type": "code",
        "colab": {}
      },
      "source": [
        "[w, b] = model.parameters()\n",
        "\n",
        "def get_params():\n",
        "  return (w[0][0].item(), b[0].item())"
      ],
      "execution_count": 0,
      "outputs": []
    },
    {
      "cell_type": "code",
      "metadata": {
        "id": "CPxfwsD6_Tr9",
        "colab_type": "code",
        "colab": {}
      },
      "source": [
        "def plot_fit(title):\n",
        "  plt.title = title\n",
        "  w1, b1 = get_params()\n",
        "  x1 = np.array([-30, 30])\n",
        "  y1 = w1*x1+ b1\n",
        "  plt.plot(x1, y1, \"r\")    #plt används för grafen\n",
        "  plt.scatter(x, y)\n",
        "  plt.show()"
      ],
      "execution_count": 0,
      "outputs": []
    },
    {
      "cell_type": "markdown",
      "metadata": {
        "id": "JMchSevdA51j",
        "colab_type": "text"
      },
      "source": [
        ""
      ]
    },
    {
      "cell_type": "code",
      "metadata": {
        "id": "fDt-lJJQAY0Q",
        "colab_type": "code",
        "outputId": "c18cb31c-1c5d-4234-98db-7edcb048dcee",
        "colab": {
          "base_uri": "https://localhost:8080/",
          "height": 269
        }
      },
      "source": [
        "plot_fit('Initial Model')"
      ],
      "execution_count": 8,
      "outputs": [
        {
          "output_type": "display_data",
          "data": {
            "image/png": "[encoded data removed]",
            "text/plain": [
              "<Figure size 432x288 with 1 Axes>"
            ]
          },
          "metadata": {
            "tags": []
          }
        }
      ]
    },
    {
      "cell_type": "code",
      "metadata": {
        "id": "wYHQzCrDAbv7",
        "colab_type": "code",
        "colab": {}
      },
      "source": [
        "criterion = nn.MSELoss()\n",
        "optimizer = torch.optim.SGD(model.parameters(), lr = 0.01)"
      ],
      "execution_count": 0,
      "outputs": []
    },
    {
      "cell_type": "code",
      "metadata": {
        "id": "g_dmtH4Fsem-",
        "colab_type": "code",
        "outputId": "68dc308a-c769-4701-f96c-8b9dacf97c4b",
        "colab": {
          "base_uri": "https://localhost:8080/",
          "height": 1000
        }
      },
      "source": [
        "epochs = 100\n",
        "losses = []\n",
        "for i in range(epochs):\n",
        "  y_pred = model.forward(x)\n",
        "  loss = criterion(y_pred, y)\n",
        "  print(\"epoch:\", i, \"loss:\", loss.item())\n",
        "  \n",
        "  losses.append(loss)\n",
        "  optimizer.zero_grad()\n",
        "  loss.backward()\n",
        "  optimizer.step()"
      ],
      "execution_count": 10,
      "outputs": [
        {
          "output_type": "stream",
          "text": [
            "epoch: 0 loss: 27.4044189453125\n",
            "epoch: 1 loss: 21.7989559173584\n",
            "epoch: 2 loss: 18.065185546875\n",
            "epoch: 3 loss: 15.577743530273438\n",
            "epoch: 4 loss: 13.920233726501465\n",
            "epoch: 5 loss: 12.815389633178711\n",
            "epoch: 6 loss: 12.078585624694824\n",
            "epoch: 7 loss: 11.586881637573242\n",
            "epoch: 8 loss: 11.258424758911133\n",
            "epoch: 9 loss: 11.038707733154297\n",
            "epoch: 10 loss: 10.891429901123047\n",
            "epoch: 11 loss: 10.792425155639648\n",
            "epoch: 12 loss: 10.725598335266113\n",
            "epoch: 13 loss: 10.680230140686035\n",
            "epoch: 14 loss: 10.64918327331543\n",
            "epoch: 15 loss: 10.627702713012695\n",
            "epoch: 16 loss: 10.61262321472168\n",
            "epoch: 17 loss: 10.60183334350586\n",
            "epoch: 18 loss: 10.593929290771484\n",
            "epoch: 19 loss: 10.587971687316895\n",
            "epoch: 20 loss: 10.583337783813477\n",
            "epoch: 21 loss: 10.579608917236328\n",
            "epoch: 22 loss: 10.576505661010742\n",
            "epoch: 23 loss: 10.573843955993652\n",
            "epoch: 24 loss: 10.571497917175293\n",
            "epoch: 25 loss: 10.569382667541504\n",
            "epoch: 26 loss: 10.567441940307617\n",
            "epoch: 27 loss: 10.56563663482666\n",
            "epoch: 28 loss: 10.563941955566406\n",
            "epoch: 29 loss: 10.562337875366211\n",
            "epoch: 30 loss: 10.560812950134277\n",
            "epoch: 31 loss: 10.559355735778809\n",
            "epoch: 32 loss: 10.557962417602539\n",
            "epoch: 33 loss: 10.556626319885254\n",
            "epoch: 34 loss: 10.555342674255371\n",
            "epoch: 35 loss: 10.554110527038574\n",
            "epoch: 36 loss: 10.552924156188965\n",
            "epoch: 37 loss: 10.551783561706543\n",
            "epoch: 38 loss: 10.550686836242676\n",
            "epoch: 39 loss: 10.549630165100098\n",
            "epoch: 40 loss: 10.548613548278809\n",
            "epoch: 41 loss: 10.547635078430176\n",
            "epoch: 42 loss: 10.546692848205566\n",
            "epoch: 43 loss: 10.545785903930664\n",
            "epoch: 44 loss: 10.544912338256836\n",
            "epoch: 45 loss: 10.544072151184082\n",
            "epoch: 46 loss: 10.543262481689453\n",
            "epoch: 47 loss: 10.54248332977295\n",
            "epoch: 48 loss: 10.541732788085938\n",
            "epoch: 49 loss: 10.541009902954102\n",
            "epoch: 50 loss: 10.540313720703125\n",
            "epoch: 51 loss: 10.539644241333008\n",
            "epoch: 52 loss: 10.538999557495117\n",
            "epoch: 53 loss: 10.53837776184082\n",
            "epoch: 54 loss: 10.537779808044434\n",
            "epoch: 55 loss: 10.537203788757324\n",
            "epoch: 56 loss: 10.536649703979492\n",
            "epoch: 57 loss: 10.536115646362305\n",
            "epoch: 58 loss: 10.535601615905762\n",
            "epoch: 59 loss: 10.535106658935547\n",
            "epoch: 60 loss: 10.53463077545166\n",
            "epoch: 61 loss: 10.534171104431152\n",
            "epoch: 62 loss: 10.533729553222656\n",
            "epoch: 63 loss: 10.533303260803223\n",
            "epoch: 64 loss: 10.5328950881958\n",
            "epoch: 65 loss: 10.532500267028809\n",
            "epoch: 66 loss: 10.532120704650879\n",
            "epoch: 67 loss: 10.531755447387695\n",
            "epoch: 68 loss: 10.531403541564941\n",
            "epoch: 69 loss: 10.5310640335083\n",
            "epoch: 70 loss: 10.530736923217773\n",
            "epoch: 71 loss: 10.530423164367676\n",
            "epoch: 72 loss: 10.530120849609375\n",
            "epoch: 73 loss: 10.529829025268555\n",
            "epoch: 74 loss: 10.529548645019531\n",
            "epoch: 75 loss: 10.529278755187988\n",
            "epoch: 76 loss: 10.52901840209961\n",
            "epoch: 77 loss: 10.528767585754395\n",
            "epoch: 78 loss: 10.52852725982666\n",
            "epoch: 79 loss: 10.528294563293457\n",
            "epoch: 80 loss: 10.528070449829102\n",
            "epoch: 81 loss: 10.527854919433594\n",
            "epoch: 82 loss: 10.527647972106934\n",
            "epoch: 83 loss: 10.527448654174805\n",
            "epoch: 84 loss: 10.52725601196289\n",
            "epoch: 85 loss: 10.527071952819824\n",
            "epoch: 86 loss: 10.526893615722656\n",
            "epoch: 87 loss: 10.526721954345703\n",
            "epoch: 88 loss: 10.526556968688965\n",
            "epoch: 89 loss: 10.526397705078125\n",
            "epoch: 90 loss: 10.5262451171875\n",
            "epoch: 91 loss: 10.526097297668457\n",
            "epoch: 92 loss: 10.525955200195312\n",
            "epoch: 93 loss: 10.525818824768066\n",
            "epoch: 94 loss: 10.525687217712402\n",
            "epoch: 95 loss: 10.52556037902832\n",
            "epoch: 96 loss: 10.52543830871582\n",
            "epoch: 97 loss: 10.525321006774902\n",
            "epoch: 98 loss: 10.52520751953125\n",
            "epoch: 99 loss: 10.52509880065918\n"
          ],
          "name": "stdout"
        }
      ]
    },
    {
      "cell_type": "code",
      "metadata": {
        "id": "gdLm58KIv6BZ",
        "colab_type": "code",
        "colab": {
          "base_uri": "https://localhost:8080/",
          "height": 300
        },
        "outputId": "b4d173c6-98f8-47d2-a2c0-80adb8e9838f"
      },
      "source": [
        "plt.plot(range(epochs), losses)\n",
        "plt.ylabel('Loss')\n",
        "plt.xlabel('epoch')"
      ],
      "execution_count": 12,
      "outputs": [
        {
          "output_type": "execute_result",
          "data": {
            "text/plain": [
              "Text(0.5, 0, 'epoch')"
            ]
          },
          "metadata": {
            "tags": []
          },
          "execution_count": 12
        },
        {
          "output_type": "display_data",
          "data": {
            "image/png": "[encoded data removed]",
            "text/plain": [
              "<Figure size 432x288 with 1 Axes>"
            ]
          },
          "metadata": {
            "tags": []
          }
        }
      ]
    },
    {
      "cell_type": "code",
      "metadata": {
        "id": "Pu6CZmvhwTH5",
        "colab_type": "code",
        "colab": {}
      },
      "source": [
        ""
      ],
      "execution_count": 0,
      "outputs": []
    },
    {
      "cell_type": "code",
      "metadata": {
        "id": "cHqYScpswFA_",
        "colab_type": "code",
        "colab": {
          "base_uri": "https://localhost:8080/",
          "height": 269
        },
        "outputId": "b521b1bb-9770-4cbb-8aa3-dc0ef76ad860"
      },
      "source": [
        "plot_fit('Trainn model')"
      ],
      "execution_count": 13,
      "outputs": [
        {
          "output_type": "display_data",
          "data": {
            "image/png": "[encoded data removed]",
            "text/plain": [
              "<Figure size 432x288 with 1 Axes>"
            ]
          },
          "metadata": {
            "tags": []
          }
        }
      ]
    },
    {
      "cell_type": "code",
      "metadata": {
        "id": "6YrK57jXwToD",
        "colab_type": "code",
        "colab": {}
      },
      "source": [
        ""
      ],
      "execution_count": 0,
      "outputs": []
    }
  ]
}